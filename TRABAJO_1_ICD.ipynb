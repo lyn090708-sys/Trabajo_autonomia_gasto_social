{
  "cells": [
    {
      "cell_type": "markdown",
      "source": [
        "\n",
        "\n",
        "# Dependencia de transferencias y autonomía financiera en municipios peruanos\n",
        "## Trabajo 1 - Análisis exploratorio de datos\n",
        "\n",
        "**Objetivo:**  \n",
        "Analizar si la dependencia de las transferencias del FONCOMUN reduce la asignación a gasto social (educación y salud), mientras que la autonomía financiera —medida como la proporción de ingresos propios— favorece un uso más orientado al bienestar.\n",
        "\n",
        "Integrantes:\n",
        "\n",
        " - Gabriela Andrea Aguirre Manrique.\n",
        " - Fernado Andre Infante Timoteo.\n",
        " - María Paula Núñez Barreto.\n",
        " - Estefanny Mirella Ramirez Herrera.\n"
      ],
      "metadata": {
        "id": "dkq_j29S2-_v"
      },
      "id": "dkq_j29S2-_v"
    },
    {
      "cell_type": "markdown",
      "source": [
        "---"
      ],
      "metadata": {
        "id": "UmouV1xt3L8p"
      },
      "id": "UmouV1xt3L8p"
    },
    {
      "cell_type": "markdown",
      "source": [
        "## 1. Marco Teórico\n",
        "\n",
        "En el Perú, los gobiernos locales son responsables de proveer servicios públicos esenciales —educación, salud, saneamiento, seguridad— que afectan directamente el bienestar ciudadano. La capacidad para financiar estos servicios depende de cómo se compone su presupuesto: una combinación de transferencias intergubernamentales y de ingresos propios. Esta composición no es neutral: determina el **grado de autonomía fiscal** del municipio, moldea los incentivos de sus autoridades y condiciona la prioridad que pueden darle al gasto social.\n",
        "\n",
        "En la literatura de finanzas públicas y federalismo fiscal se reconocen dos fuentes principales de financiamiento:\n",
        "\n",
        "1. **Transferencias intergubernamentales.** Incluyen el **Fondo de Compensación Municipal (FONCOMUN)** y recursos por **Canon, sobrecanon, regalías, renta de aduanas y participaciones**. Buscan reducir brechas verticales y territoriales de ingresos, especialmente en municipios con baja base tributaria. Sin embargo, una fuerte dependencia de transferencias puede inducir **desincentivos al esfuerzo recaudatorio** (riesgo moral), **rigideces** cuando los fondos son etiquetados, y una menor presión de rendición de cuentas si los contribuyentes locales no perciben que “su” dinero financia el gasto.\n",
        "\n",
        "2. **Ingresos propios (autonomía financiera).** Comprenden tributos municipales (predial, arbitrios, vehicular, licencias) y recursos no tributarios (tasas, multas, venta de servicios). Una mayor proporción de ingresos propios suele asociarse con **mayor eficiencia** en el uso de recursos, **mejor alineación con preferencias locales** y **mayor rendición de cuentas**, pues los ciudadanos observan con más claridad la relación impuesto–servicio.\n",
        "\n",
        "### 1.1 Hipótesis\n",
        "\n",
        "Desde esta perspectiva, esperamos encontrar que **una mayor dependencia de transferencias —en especial del FONCOMUN— se vincula con una menor participación del gasto social** (educación y salud) en el presupuesto ejecutado. El mecanismo subyacente es doble: por un lado, el menor esfuerzo recaudatorio local reduce la autonomía para priorizar; por otro, cuando las transferencias son volátiles o no están orientadas a resultados, el gasto social puede verse desplazado por gasto corriente o por presiones de corto plazo.\n",
        "\n",
        "En contraste, **una mayor autonomía financiera —medida como la proporción de ingresos propios en los ingresos totales— debería asociarse positivamente con la participación del gasto social**. Municipios que logran recaudar más tienden a responder con mayor precisión a las preferencias de sus residentes (quienes pagan), lo que se traduce en mayor inversión en servicios públicos visibles y de alto impacto, como educación y salud. Además, la estabilidad relativa de los ingresos propios facilita la planificación multianual del gasto social.\n",
        "\n",
        "### 1.2 Importancia\n",
        "\n",
        "Comprender esta relación es crucial por varias razones. Primero, **equidad territorial**: si los municipios más dependientes asignan sistemáticamente menos al gasto social, las brechas en servicios esenciales podrían ampliarse entre territorios con distintas capacidades fiscales. Segundo, **eficiencia del diseño institucional**: cuantificar cómo las transferencias influyen en prioridades de gasto informa el rediseño de reglas y fórmulas (por ejemplo, criterios de asignación, condicionalidades, componentes de desempeño o esquemas de cofinanciamiento) para alinear mejor los incentivos con resultados en bienestar.\n",
        "\n",
        "Tercero, **resiliencia y ciclo económico**: choques como la **pandemia del COVID-19** evidenciaron que la recaudación local y la ejecución del gasto social son sensibles a la actividad económica y a la gestión municipal. Evaluar si municipios con mayor autonomía sostienen mejor el gasto social durante shocks ayuda a diseñar **mecanismos anticíclicos** y de protección de servicios esenciales. Cuarto, **gobernanza y rendición de cuentas**: al fortalecer ingresos propios se potencia la relación impuesto–servicio, lo que puede mejorar la calidad del gasto vía control ciudadano y transparencia.\n",
        "\n",
        " **La estructura de financiamiento condiciona la asignación presupuestaria**: la dependencia de transferencias tendería a **desplazar** o **despriorizar** el gasto social, mientras que la autonomía financiera favorecería **mayor y más estable** inversión en educación y salud. Este es el vínculo empírico que evaluamos con datos del MEF, sirviendo como referencia para futuras recomendaciones de política sobre descentralización fiscal y diseño de transferencias.\n",
        "\n",
        " ---"
      ],
      "metadata": {
        "id": "l1Mb9_eOruQU"
      },
      "id": "l1Mb9_eOruQU"
    },
    {
      "cell_type": "markdown",
      "source": [
        "## 2. Tratamiento y Exploración de Datos:"
      ],
      "metadata": {
        "id": "ke-qeHfbrql2"
      },
      "id": "ke-qeHfbrql2"
    },
    {
      "cell_type": "code",
      "execution_count": null,
      "id": "a5ebe70f-e586-4bc8-8117-92cb28882072",
      "metadata": {
        "id": "a5ebe70f-e586-4bc8-8117-92cb28882072"
      },
      "outputs": [],
      "source": [
        "# ==========================================\n",
        "# Trabajo 1 - Ingesta, Limpieza y EDA\n",
        "# Curso: Introducción a Ciencia de Datos y ML\n",
        "# Tema: Dependencia de transferencias vs gasto social municipal\n",
        "# ==========================================\n",
        "\n",
        "# --- Librerías ---\n",
        "import pandas as pd\n",
        "import numpy as np\n",
        "import matplotlib.pyplot as plt\n",
        "import seaborn as sns\n"
      ]
    },
    {
      "cell_type": "markdown",
      "source": [
        "## 2.1 Carga de los datos\n",
        "\n",
        "En este bloque cargamos los datasets descargados desde el portal de Datos Abiertos del MEF,\n",
        "montando Google Drive para acceder a los archivos CSV. Los datos incluyen:\n",
        "\n",
        "- **Ingresos Mensuales**: recaudación de ingresos municipales.\n",
        "- **Transferencias**: montos recibidos de Canon, Foncomun y Regalías.\n",
        "- **Gasto Devengado Mensual**: ejecución presupuestaria en diferentes funciones (incluye educación y salud).\n",
        "\n",
        "Esto constituye la base sobre la cual construiremos los indicadores de dependencia de transferencias y autonomía financiera."
      ],
      "metadata": {
        "id": "TCfD-1AW2969"
      },
      "id": "TCfD-1AW2969"
    },
    {
      "cell_type": "code",
      "source": [
        "# 1. Ingesta de datos\n",
        "from google.colab import drive\n",
        "drive.mount('/content/drive')\n",
        "\n",
        "import matplotlib.pyplot as plt\n",
        "import pandas as pd"
      ],
      "metadata": {
        "id": "-AoyWpB3NYZ1",
        "outputId": "dab3aa80-e67c-4c32-de45-242b36693d46",
        "colab": {
          "base_uri": "https://localhost:8080/"
        }
      },
      "id": "-AoyWpB3NYZ1",
      "execution_count": null,
      "outputs": [
        {
          "output_type": "stream",
          "name": "stdout",
          "text": [
            "Drive already mounted at /content/drive; to attempt to forcibly remount, call drive.mount(\"/content/drive\", force_remount=True).\n"
          ]
        }
      ]
    },
    {
      "cell_type": "code",
      "source": [
        "archivos1 = [\n",
        "    \"/content/drive/MyDrive/2014-Gasto-Devengado.csv\",\n",
        "    \"/content/drive/MyDrive/2015-Gasto-Devengado.csv\",\n",
        "    \"/content/drive/MyDrive/2016-Gasto-Devengado.csv\",\n",
        "    \"/content/drive/MyDrive/2017-Gasto-Devengado.csv\",\n",
        "    \"/content/drive/MyDrive/2018-Gasto-Devengado.csv\"\n",
        "]\n",
        "\n",
        "gasto = pd.concat([pd.read_csv(a, low_memory=False) for a in archivos1], ignore_index=True)\n",
        "\n",
        "archivos2 = [\n",
        "    \"/content/drive/MyDrive/2014-Transferencias.csv\",\n",
        "    \"/content/drive/MyDrive/2015-Transferencias.csv\",\n",
        "    \"/content/drive/MyDrive/2016-Transferencias.csv\",\n",
        "    \"/content/drive/MyDrive/2017-Transferencias.csv\",\n",
        "    \"/content/drive/MyDrive/2018-Transferencias.csv\"\n",
        "]\n",
        "\n",
        "transferencias = pd.concat([pd.read_csv(a, low_memory=False) for a in archivos2], ignore_index=True)\n",
        "\n",
        "archivos3 = [\n",
        "    \"/content/drive/MyDrive/2014-Ingreso.csv\",\n",
        "    \"/content/drive/MyDrive/2015-Ingreso.csv\",\n",
        "    \"/content/drive/MyDrive/2016-Ingreso.csv\",\n",
        "    \"/content/drive/MyDrive/2017-Ingreso.csv\",\n",
        "    \"/content/drive/MyDrive/2018-Ingreso.csv\"\n",
        "]\n",
        "\n",
        "ingresos = pd.concat([pd.read_csv(a, low_memory=False) for a in archivos3], ignore_index=True)\n",
        "\n"
      ],
      "metadata": {
        "id": "SPOgc6E_Xins"
      },
      "id": "SPOgc6E_Xins",
      "execution_count": null,
      "outputs": []
    },
    {
      "cell_type": "code",
      "metadata": {
        "colab": {
          "base_uri": "https://localhost:8080/"
        },
        "id": "1bc97d58",
        "outputId": "e40bc37c-18c8-4ba2-c531-562705cc429b"
      },
      "source": [
        "import os\n",
        "\n",
        "# List files in the Google Drive directory where the data should be\n",
        "drive_path = \"/content/drive/MyDrive/\"\n",
        "if os.path.exists(drive_path):\n",
        "    print(f\"Files in {drive_path}:\")\n",
        "    for item in os.listdir(drive_path):\n",
        "        print(item)\n",
        "else:\n",
        "    print(f\"Directory not found: {drive_path}\")"
      ],
      "id": "1bc97d58",
      "execution_count": null,
      "outputs": [
        {
          "output_type": "stream",
          "name": "stdout",
          "text": [
            "Files in /content/drive/MyDrive/:\n",
            "Colab Notebooks\n",
            "TRABAJO 1 ICD.ipynb\n",
            "Taller_Sabado_U1_v2_Ampliado_Corregido.ipynb\n",
            "2015-Ingreso (1).csv\n",
            "2014-Ingreso (1).csv\n",
            "2016-Ingreso (1).csv\n",
            "2017-Ingreso (1).csv\n",
            "2018-Ingreso (1).csv\n",
            "2014-Gasto-Devengado.csv\n",
            "2017-Gasto-Devengado.csv\n",
            "2017-Transferencias.csv\n",
            "TrabajoICD \n",
            "2016-Ingreso.csv\n",
            "2018-Ingreso.csv\n",
            "2015-Ingreso.csv\n",
            "2014-Ingreso.csv\n",
            "2017-Ingreso.csv\n"
          ]
        }
      ]
    },
    {
      "cell_type": "code",
      "source": [
        "# ============================\n",
        "# Construcción del panel\n",
        "# ============================\n",
        "\n",
        "def construir_panel(ingreso_df, gasto_df, transfer_df, periodo):\n",
        "    \"\"\"\n",
        "    Construcción de panel con ingresos, gasto social y transferencias\n",
        "    para gobiernos locales, en un rango de años dado.\n",
        "    \"\"\"\n",
        "    print(f\"\\n=== Procesando periodo {periodo[0]}–{periodo[1]} ===\")\n",
        "\n",
        "    # --- Filtrar por años ---\n",
        "    ingresos = ingreso_df[ingreso_df[\"ANO_DOC\"].between(periodo[0], periodo[1])].copy()\n",
        "    gasto = gasto_df[gasto_df[\"ANO_EJE\"].between(periodo[0], periodo[1])].copy()\n",
        "    transferencias = transfer_df[transfer_df[\"ANO_PRC\"].between(periodo[0], periodo[1])].copy()"
      ],
      "metadata": {
        "id": "Khw-vamn2qDO"
      },
      "id": "Khw-vamn2qDO",
      "execution_count": null,
      "outputs": []
    },
    {
      "cell_type": "markdown",
      "source": [
        "## 2.2 Transferencias (Canon, Foncomun y Regalías)\n",
        "\n",
        "En este bloque procesamos las transferencias fiscales recibidas por los gobiernos locales.  \n",
        "Clasificamos las transferencias según su fuente principal: **Canon, Foncomun y Regalías**,\n",
        "y calculamos el total recibido por municipio y año.\n",
        "\n",
        "Este paso es importante porque nos permite identificar qué tan dependiente es cada municipio de estas fuentes externas de financiamiento."
      ],
      "metadata": {
        "id": "Rglqo99Or7wo"
      },
      "id": "Rglqo99Or7wo"
    },
    {
      "cell_type": "code",
      "execution_count": null,
      "id": "bea32c47-0c21-437d-a202-13bed5293f28",
      "metadata": {
        "id": "bea32c47-0c21-437d-a202-13bed5293f28",
        "outputId": "8e7c79b8-7131-4487-b9f7-83fd90616018",
        "colab": {
          "base_uri": "https://localhost:8080/",
          "height": 211
        }
      },
      "outputs": [
        {
          "output_type": "error",
          "ename": "NameError",
          "evalue": "name 'transferencias' is not defined",
          "traceback": [
            "\u001b[0;31m---------------------------------------------------------------------------\u001b[0m",
            "\u001b[0;31mNameError\u001b[0m                                 Traceback (most recent call last)",
            "\u001b[0;32m/tmp/ipython-input-780508056.py\u001b[0m in \u001b[0;36m<cell line: 0>\u001b[0;34m()\u001b[0m\n\u001b[1;32m      2\u001b[0m \u001b[0;31m# 2. Transferencias (Canon, Foncomun, Regalías)\u001b[0m\u001b[0;34m\u001b[0m\u001b[0;34m\u001b[0m\u001b[0m\n\u001b[1;32m      3\u001b[0m \u001b[0;31m# ==========================================\u001b[0m\u001b[0;34m\u001b[0m\u001b[0;34m\u001b[0m\u001b[0m\n\u001b[0;32m----> 4\u001b[0;31m \u001b[0mtransferencias\u001b[0m\u001b[0;34m[\u001b[0m\u001b[0;34m\"RECURSO_NOMBRE\"\u001b[0m\u001b[0;34m]\u001b[0m \u001b[0;34m=\u001b[0m \u001b[0mtransferencias\u001b[0m\u001b[0;34m[\u001b[0m\u001b[0;34m\"RECURSO_NOMBRE\"\u001b[0m\u001b[0;34m]\u001b[0m\u001b[0;34m.\u001b[0m\u001b[0mstr\u001b[0m\u001b[0;34m.\u001b[0m\u001b[0mupper\u001b[0m\u001b[0;34m(\u001b[0m\u001b[0;34m)\u001b[0m\u001b[0;34m\u001b[0m\u001b[0;34m\u001b[0m\u001b[0m\n\u001b[0m\u001b[1;32m      5\u001b[0m \u001b[0;34m\u001b[0m\u001b[0m\n\u001b[1;32m      6\u001b[0m \u001b[0mfiltros\u001b[0m \u001b[0;34m=\u001b[0m \u001b[0;34m[\u001b[0m\u001b[0;34m\"FONCOMUN\"\u001b[0m\u001b[0;34m,\u001b[0m \u001b[0;34m\"CANON\"\u001b[0m\u001b[0;34m,\u001b[0m \u001b[0;34m\"SOBRECANON\"\u001b[0m\u001b[0;34m,\u001b[0m \u001b[0;34m\"REGALIA\"\u001b[0m\u001b[0;34m,\u001b[0m \u001b[0;34m\"REGALÍAS\"\u001b[0m\u001b[0;34m]\u001b[0m\u001b[0;34m\u001b[0m\u001b[0;34m\u001b[0m\u001b[0m\n",
            "\u001b[0;31mNameError\u001b[0m: name 'transferencias' is not defined"
          ]
        }
      ],
      "source": [
        "# ==========================================\n",
        "# 2. Transferencias (Canon, Foncomun, Regalías)\n",
        "# ==========================================\n",
        "transferencias[\"RECURSO_NOMBRE\"] = transferencias[\"RECURSO_NOMBRE\"].str.upper()\n",
        "\n",
        "filtros = [\"FONCOMUN\", \"CANON\", \"SOBRECANON\", \"REGALIA\", \"REGALÍAS\"]\n",
        "df_filtrado = transferencias[\n",
        "    transferencias[\"RECURSO_NOMBRE\"].str.contains(\"|\".join(filtros), na=False)\n",
        "].copy()\n",
        "\n",
        "def clasificar_fuente(x):\n",
        "    if \"FONCOMUN\" in x:\n",
        "        return \"FONCOMUN\"\n",
        "    elif \"SOBRECANON\" in x:\n",
        "        return \"SOBRECANON\"\n",
        "    elif \"CANON\" in x:\n",
        "        return \"CANON\"\n",
        "    elif \"REGAL\" in x:\n",
        "        return \"REGALIAS\"\n",
        "    else:\n",
        "        return \"OTROS\"\n",
        "\n",
        "df_filtrado[\"FUENTE_CLASIFICADA\"] = df_filtrado[\"RECURSO_NOMBRE\"].apply(clasificar_fuente)\n",
        "\n",
        "# Resumen y pivot\n",
        "resumen_transf = df_filtrado.groupby(\n",
        "    [\"ANO_PRC\",\"MES_PRC\",\"PLIEGO_NOMBRE\",\"FUENTE_CLASIFICADA\"], as_index=False\n",
        ").agg({\"MONTO_ACREDITADO\":\"sum\"})\n",
        "\n",
        "#Cuánto recibe cada pliego, en cada año y mes, desagregado por fuente de financiamiento\n",
        "transf_pivot = resumen_transf.pivot_table(\n",
        "    index=[\"ANO_PRC\",\"MES_PRC\",\"PLIEGO_NOMBRE\"],\n",
        "    columns=\"FUENTE_CLASIFICADA\",\n",
        "    values=\"MONTO_ACREDITADO\",\n",
        "    aggfunc=\"sum\",\n",
        "    fill_value=0\n",
        ").reset_index()\n",
        "\n",
        "transf_pivot[\"total_transferencias\"] = transf_pivot.drop(\n",
        "    columns=[\"ANO_PRC\",\"MES_PRC\",\"PLIEGO_NOMBRE\"]\n",
        ").sum(axis=1)\n",
        "\n",
        "print(\"\\n=== Transferencias ===\")\n",
        "print(resumen_transf.head(10))"
      ]
    },
    {
      "cell_type": "markdown",
      "source": [
        "## 2.3 Gasto Social (Educación y Salud)\n",
        "\n",
        "Aquí filtramos el gasto devengado de los **gobiernos locales** y seleccionamos las funciones\n",
        "de **educación** y **salud**, que son representativas del gasto social.\n",
        "\n",
        "El objetivo es calcular cuánto del presupuesto total ejecutado se destina al bienestar básico.  \n",
        "Esto servirá para relacionar el nivel de gasto social con la dependencia de transferencias y la autonomía financiera.\n"
      ],
      "metadata": {
        "id": "s0UE_ACesPra"
      },
      "id": "s0UE_ACesPra"
    },
    {
      "cell_type": "code",
      "execution_count": null,
      "id": "8033e64e-4ee8-4077-a81d-0bbdaa4b2168",
      "metadata": {
        "id": "8033e64e-4ee8-4077-a81d-0bbdaa4b2168"
      },
      "outputs": [],
      "source": [
        "# ==========================================\n",
        "# 3. Gasto social (Educación y Salud)\n",
        "# ==========================================\n",
        "gasto_local = gasto[\n",
        "    (gasto[\"NIVEL_GOBIERNO_NOMBRE\"]==\"GOBIERNOS LOCALES\") &\n",
        "    (gasto[\"FUNCION_NOMBRE\"].isin([\"EDUCACION\",\"SALUD\"]))\n",
        "].copy()\n",
        "\n",
        "#Facilita agrupar, graficar y analizar datos.\n",
        "gasto_long = gasto_local.melt(\n",
        "    id_vars=[\"ANO_EJE\",\"PLIEGO_NOMBRE\",\"FUNCION_NOMBRE\",\"MONTO_PIM\"],\n",
        "    value_vars=[c for c in gasto_local.columns if \"MONTO_DEVENGADO_\" in c],\n",
        "    var_name=\"mes\", value_name=\"monto_devengado\"\n",
        ")\n",
        "\n",
        "# Normalizar meses\n",
        "gasto_long[\"MES\"] = gasto_long[\"mes\"].str.replace(\"MONTO_DEVENGADO_\",\"\").str.title()\n",
        "meses = {\n",
        "    \"Enero\":1,\"Febrero\":2,\"Marzo\":3,\"Abril\":4,\"Mayo\":5,\"Junio\":6,\n",
        "    \"Julio\":7,\"Agosto\":8,\"Septiembre\":9,\"Octubre\":10,\"Noviembre\":11,\"Diciembre\":12\n",
        "}\n",
        "gasto_long[\"MES_NUM\"] = gasto_long[\"MES\"].map(meses)\n",
        "\n",
        "# Limpieza y ratios\n",
        "gasto_long[\"monto_devengado\"] = gasto_long[\"monto_devengado\"].fillna(0)\n",
        "gasto_long[\"MONTO_PIM\"] = gasto_long[\"MONTO_PIM\"].replace(0,np.nan)\n",
        "gasto_long[\"ejecucion_pct\"] = (gasto_long[\"monto_devengado\"]/gasto_long[\"MONTO_PIM\"]).fillna(0)\n",
        "\n",
        "# Agregar y pivotear\n",
        "#Agregar los datos (sumar) después de la estructuración del gasto en formato largo.\n",
        "gasto_social = gasto_long.groupby(\n",
        "    [\"ANO_EJE\",\"MES_NUM\",\"PLIEGO_NOMBRE\",\"FUNCION_NOMBRE\"], as_index=False\n",
        ").agg({\"monto_devengado\":\"sum\"})\n",
        "\n",
        "gasto_pivot = gasto_social.pivot_table(\n",
        "    index=[\"ANO_EJE\",\"MES_NUM\",\"PLIEGO_NOMBRE\"],\n",
        "    columns=\"FUNCION_NOMBRE\",\n",
        "    values=\"monto_devengado\",\n",
        "    aggfunc=\"sum\",\n",
        "    fill_value=0\n",
        ").reset_index().rename(columns={\"EDUCACION\":\"gasto_educ\",\"SALUD\":\"gasto_salud\"})\n",
        "\n",
        "gasto_pivot[\"gasto_social\"] = gasto_pivot[\"gasto_educ\"] + gasto_pivot[\"gasto_salud\"]\n",
        "\n",
        "print(\"\\n=== Gasto Social ===\")\n",
        "print(gasto_social.head(10))"
      ]
    },
    {
      "cell_type": "markdown",
      "source": [
        "## 2.4 Ingresos y Autonomía Financiera\n",
        "\n",
        "En esta sección procesamos los ingresos municipales, clasificándolos en:\n",
        "\n",
        "- **Ingresos propios**: recursos tributarios y no tributarios recaudados directamente por el municipio.\n",
        "- **Ingresos no propios**: transferencias y otros ingresos externos.\n",
        "\n",
        "A partir de estos datos calculamos el indicador de **autonomía financiera**, definido como:\n",
        "    \n",
        "    autonomía = ingresos propios / ingresos totales\n",
        "\n",
        "Este indicador mide la capacidad de un municipio de generar sus propios recursos,\n",
        "lo cual refleja su independencia relativa respecto de las transferencias."
      ],
      "metadata": {
        "id": "gCc9D76NsbkL"
      },
      "id": "gCc9D76NsbkL"
    },
    {
      "cell_type": "code",
      "execution_count": null,
      "id": "ab538715-3376-4827-9ba2-579bc9a900be",
      "metadata": {
        "id": "ab538715-3376-4827-9ba2-579bc9a900be"
      },
      "outputs": [],
      "source": [
        "# ==========================================\n",
        "# 4. Ingresos y autonomía financiera\n",
        "# ==========================================\n",
        "ingresos_local = ingresos[ingresos[\"NIVEL_GOBIERNO_NOMBRE\"]==\"GOBIERNOS LOCALES\"].copy()\n",
        "\n",
        "ingresos_local[\"TIPO_INGRESO\"] = ingresos_local[\"FUENTE_FINANCIAMIENTO_NOMBRE\"].str.upper().apply(\n",
        "    lambda x: \"PROPIOS\" if \"DIRECTAMENTE RECAUDADOS\" in x or \"INGRESOS PROPIOS\" in x else \"NO_PROPIOS\"\n",
        ")\n",
        "\n",
        "ingresos_group = ingresos_local.groupby(\n",
        "    [\"ANO_DOC\",\"MES_DOC\",\"PLIEGO_NOMBRE\"], as_index=False\n",
        ").agg({\"MONTO_RECAUDADO\":\"sum\"}).rename(columns={\"MONTO_RECAUDADO\":\"total_ingresos\"})\n",
        "\n",
        "#Ingresos propios:lo que recauda directamente el gobierno local (impuestos municipales, tasas, licencias, arbitrios, etc.).\n",
        "#Total de ingresos: suma de ingresos propios + transferencias + otras fuentes.\n",
        "ingresos_propios = ingresos_local[ingresos_local[\"TIPO_INGRESO\"]==\"PROPIOS\"].groupby(\n",
        "    [\"ANO_DOC\",\"MES_DOC\",\"PLIEGO_NOMBRE\"], as_index=False\n",
        ").agg({\"MONTO_RECAUDADO\":\"sum\"}).rename(columns={\"MONTO_RECAUDADO\":\"ingresos_propios\"})\n",
        "\n",
        "ingresos_final = ingresos_group.merge(ingresos_propios, on=[\"ANO_DOC\",\"MES_DOC\",\"PLIEGO_NOMBRE\"], how=\"left\")\n",
        "ingresos_final[\"ingresos_propios\"] = ingresos_final[\"ingresos_propios\"].fillna(0)\n",
        "ingresos_final[\"autonomia\"] = np.where(\n",
        "    ingresos_final[\"total_ingresos\"]>0,\n",
        "    ingresos_final[\"ingresos_propios\"]/ingresos_final[\"total_ingresos\"],\n",
        "    0\n",
        ")\n",
        "\n",
        "print(\"\\n=== Ingresos ===\")\n",
        "print(ingresos_final.head(10))\n",
        "#los gobiernos locales apenas financian entre 7% y 19% de su presupuesto con recursos propios; la mayoría proviene de recursos transferidos por el gobierno central.\n"
      ]
    },
    {
      "cell_type": "markdown",
      "source": [
        "## 2.5 Unificación de datasets\n",
        "\n",
        "En este paso unificamos en un solo panel de datos las tres dimensiones analizadas:\n",
        "\n",
        "1. **Transferencias (Canon y Foncomun)**\n",
        "2. **Gasto social (Educación y Salud)**\n",
        "3. **Ingresos y autonomía financiera**\n",
        "\n",
        "Esto nos permite construir un dataset consolidado por municipio y año,\n",
        "con el cual podremos analizar las relaciones entre dependencia de transferencias, autonomía financiera y gasto social."
      ],
      "metadata": {
        "id": "Z-gEepTgsrsk"
      },
      "id": "Z-gEepTgsrsk"
    },
    {
      "cell_type": "code",
      "execution_count": null,
      "id": "c3871411-e333-4dfc-867b-47948c0b114b",
      "metadata": {
        "id": "c3871411-e333-4dfc-867b-47948c0b114b"
      },
      "outputs": [],
      "source": [
        "# ==========================================\n",
        "# 5. Merge de todo\n",
        "# ==========================================\n",
        "transf_pivot = transf_pivot.rename(columns={\"ANO_PRC\":\"anio\",\"MES_PRC\":\"mes\"})\n",
        "gasto_pivot = gasto_pivot.rename(columns={\"ANO_EJE\":\"anio\",\"MES_NUM\":\"mes\"})\n",
        "ingresos_final = ingresos_final.rename(columns={\"ANO_DOC\":\"anio\",\"MES_DOC\":\"mes\"})\n",
        "\n",
        "panel = transf_pivot.merge(gasto_pivot,on=[\"anio\",\"mes\",\"PLIEGO_NOMBRE\"],how=\"outer\")\n",
        "panel = panel.merge(ingresos_final,on=[\"anio\",\"mes\",\"PLIEGO_NOMBRE\"],how=\"outer\")\n",
        "\n",
        "for col in panel.select_dtypes(include=[np.number]).columns:\n",
        "    panel[col] = panel[col].fillna(0)"
      ]
    },
    {
      "cell_type": "markdown",
      "source": [
        "## 2.6 Análisis Descriptivo\n",
        "\n",
        "Aquí generamos estadísticas básicas (promedio, mediana, mínimo, máximo, etc.)\n",
        "para las variables clave:\n",
        "\n",
        "- Proporción de ingresos provenientes de transferencias\n",
        "- Proporción de ingresos propios\n",
        "- Gasto social (educación y salud)\n",
        "\n",
        "Además, agrupamos a los municipios en **quintiles** según su nivel de autonomía financiera,\n",
        "lo que nos permite explorar si existen patrones de asignación de gasto social\n",
        "según la dependencia/autonomía de cada municipio."
      ],
      "metadata": {
        "id": "lVmC0m7us1Xg"
      },
      "id": "lVmC0m7us1Xg"
    },
    {
      "cell_type": "code",
      "execution_count": null,
      "id": "e782a4ac-158b-41bc-9974-4acc560a9803",
      "metadata": {
        "id": "e782a4ac-158b-41bc-9974-4acc560a9803"
      },
      "outputs": [],
      "source": [
        "# ==========================================\n",
        "# 6. Análisis descriptivo\n",
        "# ==========================================\n",
        "\n",
        "# --- Proporciones de ingresos ---\n",
        "panel[\"prop_transferencias\"] = np.where(\n",
        "    panel[\"total_ingresos\"] > 0,\n",
        "    panel[\"total_transferencias\"] / panel[\"total_ingresos\"],\n",
        "    0\n",
        ")\n",
        "\n",
        "panel[\"prop_propios\"] = np.where(\n",
        "    panel[\"total_ingresos\"] > 0,\n",
        "    panel[\"ingresos_propios\"] / panel[\"total_ingresos\"],\n",
        "    0\n",
        ")\n",
        "\n",
        "# --- Estadísticas generales ---\n",
        "print(\"\\n=== Estadísticas descriptivas ===\")\n",
        "print(panel[[\"autonomia\",\"prop_transferencias\",\"gasto_social\"]].describe())\n",
        "\n",
        "# --- Quintiles de autonomía (evitando duplicados por ceros) ---\n",
        "panel_nonzero = panel.copy()\n",
        "panel_nonzero.loc[panel_nonzero[\"autonomia\"]==0, \"autonomia\"] = np.nan  # opcional: convertir ceros en NaN\n",
        "panel_nonzero[\"quintil_autonomia\"] = pd.qcut(\n",
        "    panel_nonzero[\"autonomia\"], 5, labels=[\"Q1\",\"Q2\",\"Q3\",\"Q4\",\"Q5\"], duplicates=\"drop\"\n",
        ")\n",
        "\n",
        "quintiles = panel_nonzero.groupby(\"quintil_autonomia\")[\"gasto_social\"].agg(\n",
        "    [\"mean\",\"median\",\"min\",\"max\"]\n",
        ").reset_index()\n",
        "\n",
        "print(\"\\n=== Gasto social por quintiles de autonomía ===\")\n",
        "print(quintiles)\n",
        "\n"
      ]
    },
    {
      "cell_type": "markdown",
      "source": [
        "\n",
        "### Interpretamos los datos descriptivos...\n",
        "---\n",
        "\n",
        "* Lo primero que llama la atención es que la autonomía promedio es bajísima (apenas 0.19%), lo que evidencia que la gran mayoría de municipalidades no logra sostenerse con ingresos propios y depende casi por completo de las transferencias intergubernamentales. No obstante, también existen casos puntuales donde la autonomía alcanza valores cercanos al 22%, lo que sugiere que algunos municipios —probablemente los más grandes o con una base tributaria sólida— logran un mayor margen de independencia fiscal.\n",
        "\n",
        "* En el gasto social, se observa una dispersión muy alta: algunos municipios destinan montos insignificantes, mientras que otros superan los 500 millones. Esto refleja la gran heterogeneidad estructural del sistema municipal en el Perú: mientras algunos apenas logran financiar servicios básicos, otros manejan presupuestos robustos, usualmente por ingresos del canon o por su tamaño poblacional.\n",
        "\n",
        "* Al clasificar los municipios en quintiles según su nivel de autonomía, se aprecia que los que están en los niveles más altos (Q4 y Q5) presentan, en promedio, mayores niveles de gasto social. Esto confirma la hipótesis de que la autonomía financiera favorece una mayor inversión en sectores prioritarios, ya que otorga a los municipios más flexibilidad en la asignación de recursos.\n",
        "\n",
        "* Sin embargo, la dispersión sigue siendo amplia: incluso dentro de los quintiles altos, hay municipios que gastan mucho menos de lo esperado. Esto indica que la autonomía, aunque relevante, no garantiza por sí sola un gasto social elevado; otros factores como la capacidad administrativa, la orientación política de las autoridades locales o la presión ciudadana también influyen.\n",
        " ---"
      ],
      "metadata": {
        "id": "e66sY-QUuT-c"
      },
      "id": "e66sY-QUuT-c"
    },
    {
      "cell_type": "markdown",
      "source": [
        "## 3. Análisis de Gráficos\n",
        "\n",
        "En este apartado presentamos distintos gráficos que permiten visualizar la relación entre la autonomía financiera de los municipios, la dependencia de transferencias y la asignación al gasto social. Cada visualización aporta un ángulo distinto para comprender cómo evolucionan estas variables en el tiempo y cómo se relacionan entre sí.\n"
      ],
      "metadata": {
        "id": "UM9fUtp1xJpx"
      },
      "id": "UM9fUtp1xJpx"
    },
    {
      "cell_type": "markdown",
      "source": [
        "### 3.1 Evolución mensual de la autonomía financiera\n",
        "\n",
        "El gráfico de líneas muestra cómo varía la autonomía financiera a lo largo de los meses. Se puede observar que la autonomía tiende a mantenerse en niveles bajos, lo que confirma la fuerte dependencia de las transferencias. Las pequeñas variaciones reflejan la estacionalidad en la recaudación de ingresos propios, que suele aumentar en algunos periodos (por ejemplo, meses de pago de impuestos locales).\n"
      ],
      "metadata": {
        "id": "Z7QGjCUCxUUu"
      },
      "id": "Z7QGjCUCxUUu"
    },
    {
      "cell_type": "code",
      "source": [
        "# ============================\n",
        "# Mini EDA Gráfico - Trabajo 1\n",
        "# ============================\n",
        "\n",
        "# 1. Evolución mensual de autonomía\n",
        "\n",
        "import pandas as pd\n",
        "\n",
        "# Crear variable de fecha YYYY-MM\n",
        "panel[\"fecha\"] = pd.to_datetime(panel[\"anio\"].astype(str) + \"-\" + panel[\"mes\"].astype(str) + \"-01\")\n",
        "\n",
        "plt.figure(figsize=(12,6))\n",
        "sns.lineplot(data=panel, x=\"fecha\", y=\"autonomia\", marker=\"o\", color=\"blue\")\n",
        "plt.title(\"Evolución mensual de la autonomía financiera (2014-2018)\")\n",
        "plt.xlabel(\"Fecha\")\n",
        "plt.ylabel(\"Autonomía\")\n",
        "plt.xticks(rotation=45)\n",
        "plt.show()"
      ],
      "metadata": {
        "id": "D0N1fRnGkYXC"
      },
      "id": "D0N1fRnGkYXC",
      "execution_count": null,
      "outputs": []
    },
    {
      "cell_type": "markdown",
      "source": [
        "* En el gráfico se observa la evolución mensual de la autonomía financiera de los municipios durante el periodo 2014–2019. La línea azul se mantiene muy cerca de cero en casi todo el intervalo, lo que confirma que la capacidad de los municipios para generar ingresos propios es reducida. Sin embargo, aparecen picos en ciertos meses, especialmente alrededor de 2016, cuando la autonomía alcanza valores inusualmente altos respecto al resto del periodo. Estos picos parecen ser outliers, posiblemente relacionados con cobros extraordinarios de impuestos municipales, la regularización de deudas tributarias o ingresos excepcionales por licencias y multas.\n",
        "\n",
        "* La interpretación económica es que la autonomía fiscal en los municipios peruanos es estructuralmente baja y estable, y que los incrementos que aparecen no representan una tendencia de mejora, sino eventos puntuales. Esto refuerza la idea de que la mayoría de municipalidades dependen del gobierno central para financiar sus servicios y que no existe un proceso sostenido de fortalecimiento tributario local.\n"
      ],
      "metadata": {
        "id": "zKzy5NP2zGnz"
      },
      "id": "zKzy5NP2zGnz"
    },
    {
      "cell_type": "markdown",
      "source": [
        "### 3.2 Autonomía financiera por mes (barras)\n",
        "\n",
        "El gráfico de barras refuerza la visión anterior, mostrando de forma comparativa la autonomía mes a mes. Se aprecia que en la mayoría de meses la autonomía es reducida, aunque existen algunos picos que sugieren momentos de mayor recaudación tributaria municipal. Estos picos son relevantes porque indican que, incluso en su mejor momento, la autonomía sigue siendo limitada.\n"
      ],
      "metadata": {
        "id": "OqMYXTdfxqrB"
      },
      "id": "OqMYXTdfxqrB"
    },
    {
      "cell_type": "code",
      "source": [
        "# 2. Autonomía por mes (barras)\n",
        "plt.figure(figsize=(14,6))\n",
        "sns.barplot(data=panel, x=\"anio\", y=\"autonomia\", hue=\"mes\", errorbar=None)\n",
        "plt.title(\"Autonomía financiera por año y mes\")\n",
        "plt.xlabel(\"Año\")\n",
        "plt.ylabel(\"Autonomía\")\n",
        "plt.legend(title=\"Mes\")\n",
        "plt.show()"
      ],
      "metadata": {
        "id": "shdSu3TimTT8"
      },
      "id": "shdSu3TimTT8",
      "execution_count": null,
      "outputs": []
    },
    {
      "cell_type": "markdown",
      "source": [
        "* Este gráfico de barras muestra la autonomía financiera desagregada por año y mes. Se observa un patrón cíclico: algunos meses presentan mayores niveles de autonomía (particularmente los primeros meses del año y los intermedios como marzo y julio), mientras que en otros la autonomía prácticamente desaparece. Además, en 2016 se registra un incremento mucho más alto que en el resto del periodo, lo que resalta como un valor atípico.\n",
        "\n",
        "* Lo que esto revela es que la recaudación municipal no es constante, sino que depende de fechas específicas en el calendario tributario, como el pago de predial y arbitrios. En otras palabras, los ingresos propios de los municipios se concentran en determinados meses del año, y fuera de esos momentos la autonomía prácticamente desaparece. Esto muestra que las finanzas municipales son altamente estacionales y frágiles."
      ],
      "metadata": {
        "id": "F8Wp1KOiMgVb"
      },
      "id": "F8Wp1KOiMgVb"
    },
    {
      "cell_type": "markdown",
      "source": [
        "* El gráfico de barras permite ver con más claridad la dispersión en los niveles de autonomía. La mayoría de meses se concentran en valores bajos, reforzando la idea de que la estructura de ingresos municipales es altamente dependiente de recursos externos. Sin embargo, nuevamente agosto destaca como un mes atípico, con un incremento notable de la autonomía. Este tipo de patrón puede relacionarse con los calendarios tributarios municipales o incluso con medidas excepcionales de recaudación durante la pandemia, donde algunos municipios implementaron facilidades de pago para mejorar la cobranza.\n"
      ],
      "metadata": {
        "id": "RTrsaoooz8Lx"
      },
      "id": "RTrsaoooz8Lx"
    },
    {
      "cell_type": "markdown",
      "source": [
        "### 3.3 Evolución de autonomía y transferencias\n",
        "\n",
        "Aquí se grafican en paralelo la autonomía y la proporción de transferencias. El contraste es claro: cuando la autonomía es baja, la proporción de transferencias es alta. Ambas curvas se mueven en sentido inverso, lo que confirma la hipótesis de que una mayor dependencia de transferencias reduce la capacidad de financiamiento propio de los municipios.\n"
      ],
      "metadata": {
        "id": "vQiU059FyXal"
      },
      "id": "vQiU059FyXal"
    },
    {
      "cell_type": "code",
      "source": [
        "# 3. Autonomía vs Prop. Transferencias (dos líneas)\n",
        "plt.figure(figsize=(10,6))\n",
        "sns.lineplot(data=panel, x=\"fecha\", y=\"autonomia\", marker=\"o\", label=\"Autonomía\", color=\"blue\")\n",
        "sns.lineplot(data=panel, x=\"fecha\", y=\"prop_transferencias\", marker=\"o\", label=\"Prop. Transferencias\", color=\"orange\")\n",
        "plt.title(\"Evolución de autonomía y transferencias\")\n",
        "plt.xlabel(\"fecha\")\n",
        "plt.ylabel(\"Proporción\")\n",
        "plt.legend()\n",
        "plt.show()\n",
        "\n"
      ],
      "metadata": {
        "id": "akKw_wV2yIiW"
      },
      "id": "akKw_wV2yIiW",
      "execution_count": null,
      "outputs": []
    },
    {
      "cell_type": "markdown",
      "source": [
        "* En el gráfico aparecen dos líneas: la azul (autonomía) y la naranja (transferencias). Lo primero que se aprecia es que ambas series se mantienen muy cerca del cero durante casi todo el periodo, lo que confirma que, en promedio, los municipios no generan ingresos propios significativos ni reciben transferencias que representen una proporción alta de sus ingresos en la mayoría de los meses.\n",
        "\n",
        "* Sin embargo, en 2016 se observa un pico pronunciado en ambas curvas: la autonomía alcanza su valor más alto en todo el periodo y, al mismo tiempo, las transferencias también muestran un incremento. Esto revela que, en ese año, ocurrió un evento extraordinario que impactó simultáneamente en los ingresos propios y en las transferencias recibidas por algunos municipios. Después de este salto, ambas líneas regresan a niveles muy bajos, y en los años 2017, 2018 y 2019 no se repiten picos de esa magnitud.\n",
        "\n",
        "* Esto quiere decir que aunque autonomía y transferencias parecen moverse en paralelo en ciertos momentos, la diferencia de magnitud es clave: la línea naranja siempre se ubica por encima de la azul, lo que confirma que los municipios son más dependientes de transferencias que de ingresos propios. El pico de 2016 sugiere un choque excepcional (quizás un pago tributario extraordinario y una transferencia central elevada en simultáneo), pero no un cambio estructural en la forma de financiamiento municipal."
      ],
      "metadata": {
        "id": "xeZRJoi10Ec1"
      },
      "id": "xeZRJoi10Ec1"
    },
    {
      "cell_type": "markdown",
      "source": [
        "### 3.4 Autonomía y transferencias vs. gasto social\n",
        "\n",
        "Este gráfico combina las dos variables fiscales (autonomía y transferencias) con el gasto social. El eje izquierdo muestra la evolución de la autonomía y las transferencias, mientras que el eje derecho presenta el gasto social. Se aprecia que, en los meses en que la autonomía aumenta ligeramente, también tiende a crecer la proporción de gasto social. Sin embargo, no siempre hay una relación directa, lo que indica que otros factores también influyen en la asignación de recursos.\n"
      ],
      "metadata": {
        "id": "zUXPw6jSyYcB"
      },
      "id": "zUXPw6jSyYcB"
    },
    {
      "cell_type": "code",
      "source": [
        "# 4. Autonomía + Transferencias vs Gasto social (dos ejes Y)\n",
        "fig, ax1 = plt.subplots(figsize=(10,6))\n",
        "\n",
        "# Eje izquierdo\n",
        "ax1.plot(panel['fecha'], panel['autonomia'], marker='o', color='blue', label='Autonomía')\n",
        "ax1.plot(panel['fecha'], panel['prop_transferencias'], marker='o', color='orange', label='Prop. Transferencias')\n",
        "ax1.set_xlabel(\"fecha\")\n",
        "ax1.set_ylabel(\"Autonomía / Prop. Transferencias\")\n",
        "ax1.legend(loc=\"upper left\")\n",
        "\n",
        "# Eje derecho\n",
        "ax2 = ax1.twinx()\n",
        "ax2.plot(panel['fecha'], panel['gasto_social'], marker='o', color='green', label='Gasto Social')\n",
        "ax2.set_ylabel(\"Gasto social (millones)\")\n",
        "ax2.legend(loc=\"upper right\")\n",
        "\n",
        "plt.title(\"Autonomía, transferencias y gasto social\")\n",
        "plt.show()\n",
        "\n"
      ],
      "metadata": {
        "id": "1R-nGV_9yPi8"
      },
      "id": "1R-nGV_9yPi8",
      "execution_count": null,
      "outputs": []
    },
    {
      "cell_type": "markdown",
      "source": [
        "* En este gráfico se incluyen las tres variables: autonomía (azul), transferencias (naranja) y gasto social (verde). Se nota rápidamente que la curva verde (gasto social) tiene mucho más movimiento que las otras dos. En varios meses alcanza valores muy altos en comparación con la autonomía y las transferencias, generando picos que sobresalen claramente en la serie.\n",
        "\n",
        "* Un detalle importante es que algunos de estos picos del gasto social coinciden con ligeros incrementos en las transferencias, pero no siempre en la misma magnitud ni en los mismos momentos. Por ejemplo, en 2016, cuando autonomía y transferencias registran su gran pico, el gasto social también muestra un aumento, pero en otros años (2017 o 2019) vemos saltos en el gasto social sin que haya un incremento proporcional en los ingresos.\n",
        "\n",
        "* Esto significa que, si bien las transferencias contribuyen a sostener parte del gasto, la relación no es automática. En varios momentos, los municipios lograron asignar mucho más a educación y salud incluso sin recibir transferencias excepcionales, lo que sugiere que las decisiones políticas y las prioridades de gestión local tienen un papel determinante en la dinámica del gasto social."
      ],
      "metadata": {
        "id": "1byVwclINejo"
      },
      "id": "1byVwclINejo"
    },
    {
      "cell_type": "code",
      "source": [
        "# Seleccionar las columnas relevantes\n",
        "vars_to_index = [\"autonomia\", \"prop_transferencias\", \"gasto_social\"]\n",
        "\n",
        "# Crear copia del panel para no modificar el original\n",
        "panel_indexado = panel.copy()\n",
        "\n",
        "# Convertir cada variable a índice base 100 (base = primer valor distinto de cero)\n",
        "for var in vars_to_index:\n",
        "    base = panel_indexado[var].replace(0, np.nan).iloc[0]  # primer valor no nulo\n",
        "    panel_indexado[var + \"_index\"] = (panel_indexado[var] / base) * 100\n",
        "\n",
        "# ============================================\n",
        "# Graficar en la misma escala\n",
        "# ============================================\n",
        "plt.figure(figsize=(10,6))\n",
        "\n",
        "sns.lineplot(data=panel_indexado, x=\"fecha\", y=\"autonomia_index\", marker=\"o\", label=\"Autonomía (base 100)\")\n",
        "sns.lineplot(data=panel_indexado, x=\"fecha\", y=\"prop_transferencias_index\", marker=\"o\", label=\"Prop. Transferencias (base 100)\")\n",
        "sns.lineplot(data=panel_indexado, x=\"fecha\", y=\"gasto_social_index\", marker=\"o\", label=\"Gasto Social (base 100)\")\n",
        "\n",
        "plt.title(\"Autonomía, transferencias y gasto social (índice base 100)\")\n",
        "plt.xlabel(\"fecha\")\n",
        "plt.ylabel(\"Índice (Base 100)\")\n",
        "plt.legend()\n",
        "plt.show()"
      ],
      "metadata": {
        "id": "gGCwpCKtbzsU"
      },
      "id": "gGCwpCKtbzsU",
      "execution_count": null,
      "outputs": []
    },
    {
      "cell_type": "markdown",
      "source": [
        "* En este gráfico se normalizan las tres series con un índice base 100 para poder compararlas. Se observa que la curva del gasto social (verde) fluctúa con mayor intensidad que las de autonomía y transferencias. Mientras estas dos últimas se mantienen relativamente planas, con solo un gran salto en 2016, la del gasto social sube y baja con frecuencia durante todo el periodo 2014–2019.\n",
        "\n",
        "* Por ejemplo, hay momentos en los que el gasto social llega a triplicar o cuadruplicar su nivel base, mientras que la autonomía y las transferencias no se alejan tanto de 100 salvo en el año 2016. Esto hace evidente que los ingresos funcionan como una “base estable”, pero la asignación al gasto social está mucho más expuesta a cambios políticos, coyunturales o administrativos.\n",
        "\n",
        "* Podemos concluir que los ingresos disponibles marcan un límite de capacidad, pero no explican la forma en que se gasta. La fuerte volatilidad del gasto social muestra que la voluntad de las autoridades locales y las circunstancias del entorno (cambios de gestión, emergencias, programas nacionales) tienen un peso decisivo en la orientación del presupuesto."
      ],
      "metadata": {
        "id": "Qx6JCWcpNtMq"
      },
      "id": "Qx6JCWcpNtMq"
    },
    {
      "cell_type": "markdown",
      "source": [
        "\n",
        "\n",
        "*   En este gráfico se transformaron las tres variables —autonomía financiera, proporción de transferencias y gasto social— a un **índice base 100**. Esto significa que a cada serie se le asigna el valor 100 en el primer mes, y los valores posteriores muestran el crecimiento relativo respecto a ese punto inicial. Se optó por este método porque las variables originales están en **escalas muy distintas**: la autonomía y las transferencias son proporciones (entre 0 y 1), mientras que el gasto social está expresado en millones de soles. Al normalizar con un índice base 100, podemos **comparar tendencias** de manera homogénea, sin que las magnitudes absolutas distorsionen la lectura.\n",
        "\n",
        "* Un hallazgo importante es que, aunque el gasto social tiende a crecer más rápidamente que la autonomía, en los meses donde la autonomía mejora también se observa una tendencia a que el gasto social se incremente de forma más consistente. Esto refuerza la hipótesis de que los ingresos propios (autonomía) pueden estar más estrechamente ligados a la capacidad de financiar gasto social.\n",
        "\n"
      ],
      "metadata": {
        "id": "l1qiX_5HiTOK"
      },
      "id": "l1qiX_5HiTOK"
    },
    {
      "cell_type": "markdown",
      "source": [
        "### 3.5 Relación entre gasto social y autonomía (dispersión)\n",
        "\n",
        "Finalmente, el diagrama de dispersión muestra la relación entre gasto social y autonomía financiera. Se observa una tendencia positiva: los municipios con mayor autonomía suelen tener niveles más altos de gasto social. No obstante, la dispersión de los puntos evidencia que esta relación no es perfecta y que existen casos atípicos, como municipios con alta autonomía pero bajo gasto social, o viceversa.\n"
      ],
      "metadata": {
        "id": "Yvv4ZaqhycLX"
      },
      "id": "Yvv4ZaqhycLX"
    },
    {
      "cell_type": "code",
      "source": [
        "# 5. Relación gasto social vs autonomía\n",
        "plt.figure(figsize=(7,6))\n",
        "sns.scatterplot(data=panel, x=\"autonomia\", y=\"gasto_social\", color=\"purple\", s=80)\n",
        "sns.regplot(data=panel, x=\"autonomia\", y=\"gasto_social\")\n",
        "plt.title(\"Relación entre gasto social y autonomía financiera\")\n",
        "plt.xlabel(\"Autonomía\")\n",
        "plt.ylabel(\"Gasto social (millones)\")\n",
        "plt.show()"
      ],
      "metadata": {
        "id": "WZlKJrCKyRTX"
      },
      "id": "WZlKJrCKyRTX",
      "execution_count": null,
      "outputs": []
    },
    {
      "cell_type": "markdown",
      "source": [
        "* El gráfico de dispersión muestra cómo se relacionan la autonomía y el gasto social. La mayoría de los puntos se concentran cerca de los valores bajos de autonomía, reflejando que casi todos los municipios tienen muy poca capacidad de generar ingresos propios. Sin embargo, dentro de este grupo, se ven diferencias notables en gasto social: algunos municipios con autonomía casi nula igualmente asignan cifras muy elevadas a educación y salud, mientras que otros prácticamente no lo hacen.\n",
        "\n",
        "* La línea de tendencia ascendente indica que, en general, a mayor autonomía, mayor gasto social. Los pocos municipios con niveles más altos de autonomía (hacia la derecha del gráfico) también registran algunos de los valores más elevados en gasto social. La intuición económica es que cuando los gobiernos locales dependen menos del gobierno central y generan sus propios recursos, tienden a usarlos en sectores de alto valor político y social, como salud y educación, para mostrar resultados visibles a la población."
      ],
      "metadata": {
        "id": "iUdNgc01N5P6"
      },
      "id": "iUdNgc01N5P6"
    },
    {
      "cell_type": "code",
      "source": [
        "# 5. Relación gasto social vs transferencia\n",
        "plt.figure(figsize=(7,6))\n",
        "sns.scatterplot(data=panel, x=\"prop_transferencias\", y=\"gasto_social\", color=\"purple\", s=80)\n",
        "sns.regplot(data=panel, x=\"prop_transferencias\", y=\"gasto_social\")\n",
        "plt.title(\"Relación entre gasto social y transferencia\")\n",
        "plt.xlabel(\"Transferencia\")\n",
        "plt.ylabel(\"Gasto social (millones)\")\n",
        "plt.show()"
      ],
      "metadata": {
        "id": "y2uTUcH-sr4a"
      },
      "id": "y2uTUcH-sr4a",
      "execution_count": null,
      "outputs": []
    },
    {
      "cell_type": "markdown",
      "source": [
        "* En este último gráfico de dispersión se observa la relación entre transferencias y gasto social. A diferencia del gráfico anterior, aquí los puntos se extienden un poco más a lo largo del eje horizontal, lo que muestra que las transferencias tienen más peso que la autonomía en los presupuestos municipales. La nube de puntos sugiere una relación positiva: cuando los municipios reciben más transferencias, suelen gastar más en gasto social.\n",
        "\n",
        "* Sin embargo, también se nota una gran dispersión vertical: algunos municipios con transferencias similares presentan niveles muy distintos de gasto social. Esto significa que recibir recursos del gobierno central no garantiza que se asignen proporcionalmente a salud o educación; en muchos casos depende de la decisión política de los alcaldes y de la capacidad de gestión de cada municipio. Económicamente, la conclusión es que las transferencias son una condición necesaria pero no suficiente para impulsar el gasto social: aportan los recursos, pero no determinan su destino final."
      ],
      "metadata": {
        "id": "vcu1yxMgODks"
      },
      "id": "vcu1yxMgODks"
    },
    {
      "cell_type": "markdown",
      "source": [
        "### 4. Exportación de resultados\n",
        "\n",
        "Finalmente, exportamos los resultados obtenidos a archivos `.csv` con el fin de documentar y facilitar el uso de la información procesada en futuros análisis.  \n"
      ],
      "metadata": {
        "id": "NNYPtxX-00K_"
      },
      "id": "NNYPtxX-00K_"
    },
    {
      "cell_type": "code",
      "execution_count": null,
      "id": "2ab2b897-8f95-4fa6-bc32-28c7607ba898",
      "metadata": {
        "id": "2ab2b897-8f95-4fa6-bc32-28c7607ba898"
      },
      "outputs": [],
      "source": [
        "# ==========================================\n",
        "# 8. Exportar resultados\n",
        "# ==========================================\n",
        "\n",
        "# Guardar panel completo\n",
        "panel.to_csv(\"panel_municipal.csv\", index=False)\n",
        "\n",
        "# Guardar quintiles de autonomía con gasto social\n",
        "quintiles.to_csv(\"quintiles_gasto_social.csv\", index=False)\n",
        "\n",
        "print(\"Archivos exportados: panel_municipal.csv y quintiles_gasto_social.csv\")"
      ]
    },
    {
      "cell_type": "code",
      "execution_count": null,
      "id": "8795b4c8-9709-4c36-b649-9dde4f323a39",
      "metadata": {
        "id": "8795b4c8-9709-4c36-b649-9dde4f323a39"
      },
      "outputs": [],
      "source": []
    }
  ],
  "metadata": {
    "kernelspec": {
      "display_name": "Python [conda env:base] *",
      "language": "python",
      "name": "conda-base-py"
    },
    "language_info": {
      "codemirror_mode": {
        "name": "ipython",
        "version": 3
      },
      "file_extension": ".py",
      "mimetype": "text/x-python",
      "name": "python",
      "nbconvert_exporter": "python",
      "pygments_lexer": "ipython3",
      "version": "3.12.7"
    },
    "colab": {
      "provenance": []
    }
  },
  "nbformat": 4,
  "nbformat_minor": 5
}